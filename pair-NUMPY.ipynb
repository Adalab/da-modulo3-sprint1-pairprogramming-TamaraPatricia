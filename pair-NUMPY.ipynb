{
 "cells": [
  {
   "cell_type": "markdown",
   "metadata": {},
   "source": [
    "# PAIR PROGRAMMING MÓDULO 3\n",
    "_________________________\n",
    "## NUMPY"
   ]
  },
  {
   "cell_type": "code",
   "execution_count": 1,
   "metadata": {},
   "outputs": [],
   "source": [
    "import numpy as np"
   ]
  },
  {
   "cell_type": "markdown",
   "metadata": {},
   "source": [
    "### Creación e indexación."
   ]
  },
  {
   "cell_type": "markdown",
   "metadata": {},
   "source": [
    "1. Crea un array 1D con 50 valores aleatorio del 10 al 99. Accede a los elementos en las posiciones múltiplos de 5."
   ]
  },
  {
   "cell_type": "code",
   "execution_count": 2,
   "metadata": {},
   "outputs": [
    {
     "name": "stdout",
     "output_type": "stream",
     "text": [
      "[16 22 19 78 47 18 19 92 42 64 17 99 49 53 37 90 93 94 15 79 40 25 68 83\n",
      " 43 67 42 91 76 49 92 30 29 21 11 11 30 40 30 71 16 97 98 85 63 73 30 99\n",
      " 76 33]\n",
      "[16 18 17 90 40 67 92 11 16 73]\n"
     ]
    }
   ],
   "source": [
    "array_uni = np.random.randint(10,100,50)\n",
    "print(array_uni)\n",
    "\n",
    "multiplos = array_uni[::5]\n",
    "print(multiplos)"
   ]
  },
  {
   "cell_type": "markdown",
   "metadata": {},
   "source": [
    "2. Crea un array 1D con 30 valores del 1 al 20 (ambos incluidos). Utiliza indexación para obtener los elementos en las posiciones impares."
   ]
  },
  {
   "cell_type": "code",
   "execution_count": 3,
   "metadata": {},
   "outputs": [
    {
     "name": "stdout",
     "output_type": "stream",
     "text": [
      "[ 2 14 10 17  1  3 16 20  7 15 19 15  1  7  4 13  1  6 12  3  6  6 11 15\n",
      " 11  1 18 11 10 20]\n",
      "[14 17  3 20 15 15  7 13  6  3  6 15  1 11 20]\n"
     ]
    }
   ],
   "source": [
    "array_uni_30 = np.random.randint(1,21,30)\n",
    "print(array_uni_30)\n",
    "\n",
    "impares = array_uni_30[1::2]\n",
    "print(impares)"
   ]
  },
  {
   "cell_type": "markdown",
   "metadata": {},
   "source": [
    "3. Crea un array 2D de forma (4, 6) con números aleatorios decimales (no deben estar comprendidos solo entre 0 y 1). Accede a la última fila de la matriz. Los decimales deben estar redondeados a 2 decimales."
   ]
  },
  {
   "cell_type": "code",
   "execution_count": 4,
   "metadata": {},
   "outputs": [
    {
     "data": {
      "text/plain": [
       "array([[ 1.29, 64.77, 19.81, 23.94, 11.03, 69.47],\n",
       "       [71.84,  2.38, 26.31, 78.03, 78.28, 97.31],\n",
       "       [18.91, 74.83, 78.85, 52.87, 48.8 , 87.09],\n",
       "       [17.72, 76.36, 61.99,  9.07, 17.88, 88.89]])"
      ]
     },
     "execution_count": 4,
     "metadata": {},
     "output_type": "execute_result"
    }
   ],
   "source": [
    "array_bi = np.random.rand(4, 6)\n",
    "array_bi = np.round((array_bi*100),2)\n",
    "array_bi"
   ]
  },
  {
   "cell_type": "markdown",
   "metadata": {},
   "source": [
    "4. Crea un array NumPy 2D de forma (6, 4) con valores decimales entre 0 y 1. Accede a la segunda columna de la matriz. Los números deben estar redondeados a 2 decimales."
   ]
  },
  {
   "cell_type": "code",
   "execution_count": 5,
   "metadata": {},
   "outputs": [
    {
     "name": "stdout",
     "output_type": "stream",
     "text": [
      "[[0.35 0.79 0.07 0.55]\n",
      " [0.17 0.42 0.7  0.47]\n",
      " [0.33 0.79 0.13 0.84]\n",
      " [0.69 0.46 0.7  0.64]\n",
      " [0.79 0.17 0.08 0.64]\n",
      " [0.79 0.96 0.76 0.49]]\n",
      "[0.79 0.42 0.79 0.46 0.17 0.96]\n"
     ]
    }
   ],
   "source": [
    "array_bi_2 = np.round(np.random.random_sample((6,4)),2)\n",
    "print(array_bi_2)\n",
    "\n",
    "columna = array_bi_2[:,1]\n",
    "print(columna)"
   ]
  },
  {
   "cell_type": "markdown",
   "metadata": {},
   "source": [
    "5. Crea un array 1D con 30 valores enteros aleatorios entre -50 y 50. Extrae los valores negativos."
   ]
  },
  {
   "cell_type": "code",
   "execution_count": 6,
   "metadata": {},
   "outputs": [
    {
     "name": "stdout",
     "output_type": "stream",
     "text": [
      "[ 42   1  42  -9 -12 -25 -40 -32  -6 -48 -47  39  21  23   5  46  14  -3\n",
      "  24   2  32  -8  39  41   7 -26  -9 -27   0  39] \n",
      "\n",
      "[ -9 -12 -25 -40 -32  -6 -48 -47  -3  -8 -26  -9 -27] \n",
      "\n"
     ]
    }
   ],
   "source": [
    "array30 = np.random.randint(-51,51,30)\n",
    "print(f'{array30} \\n')\n",
    "\n",
    "negativos = array30[array30 <0]\n",
    "print(f'{negativos} \\n')"
   ]
  },
  {
   "cell_type": "markdown",
   "metadata": {},
   "source": [
    "6. Crea un array 1D con 10 valores entre 0 y 1. Redondea los decimales a 2. Obtén los elementos cuyo valor es mayor que 0.5. ¿En que posición/es están esos elementos?"
   ]
  },
  {
   "cell_type": "code",
   "execution_count": 7,
   "metadata": {},
   "outputs": [
    {
     "name": "stdout",
     "output_type": "stream",
     "text": [
      "[0.16 0.49 0.83 0.95 0.69 0.56 0.11 0.95 0.64 0.23] \n",
      "\n",
      "(array([2, 3, 4, 5, 7, 8]),) \n",
      "\n"
     ]
    }
   ],
   "source": [
    "array_uni_10 = np.round(np.random.rand(10),2)\n",
    "print(f'{array_uni_10} \\n')\n",
    "\n",
    "elementos = np.where(array_uni_10 >0.5)\n",
    "print(f'{elementos} \\n')"
   ]
  },
  {
   "cell_type": "markdown",
   "metadata": {},
   "source": [
    "7. Crea un array 1D con 40 valores del 1 al 100 (ambos incluidos). Obtén los elementos que son divisibles por 3 y por 4."
   ]
  },
  {
   "cell_type": "code",
   "execution_count": 8,
   "metadata": {},
   "outputs": [
    {
     "name": "stdout",
     "output_type": "stream",
     "text": [
      "[76 80  1 35 94 71 80 42 25 44 39 50 32  4  1 41 47 20 28 74 67 52  7 45\n",
      "  1 95 89 78 91 86 84 78 74 82 48 72 49 86 64 23] \n",
      "\n",
      "[84 48 72] \n",
      "\n"
     ]
    }
   ],
   "source": [
    "array40 = np.random.randint(1,101,40)\n",
    "print(f'{array40} \\n')\n",
    "\n",
    "elementos40 = array40[(array40 % 3 == 0) & (array40 % 4 == 0)]\n",
    "print(f'{elementos40} \\n')"
   ]
  },
  {
   "cell_type": "markdown",
   "metadata": {},
   "source": [
    "BONUS: Crea un array 3D de forma (2, 3, 5) y 50 elementos con números enteros entre 0 y 100 (ambos incluidos). Reemplaza los elementos en posiciones múltiplos de 3 por 0."
   ]
  },
  {
   "cell_type": "code",
   "execution_count": 9,
   "metadata": {},
   "outputs": [
    {
     "name": "stdout",
     "output_type": "stream",
     "text": [
      "[[[69 74 91 13  8]\n",
      "  [22 61 62 98 60]\n",
      "  [58 60  8 11 27]]\n",
      "\n",
      " [[29 89 58 92  0]\n",
      "  [ 8 60 44 90 31]\n",
      "  [36 30 90 41 54]]] \n",
      "\n",
      "------\n",
      "[[[ 0 74 91 13  8]\n",
      "  [22 61 62 98  0]\n",
      "  [58  0  8 11  0]]\n",
      "\n",
      " [[29 89 58 92  0]\n",
      "  [ 8  0 44  0 31]\n",
      "  [ 0  0  0 41  0]]] \n",
      "\n"
     ]
    }
   ],
   "source": [
    "array_tri = np.random.randint(0,101, (2,3,5))\n",
    "print(f'{array_tri} \\n')\n",
    "print('------')\n",
    "\n",
    "multiplos3 = np.where(array_tri % 3 == 0, 0, array_tri)\n",
    "print(f'{multiplos3} \\n')"
   ]
  },
  {
   "cell_type": "markdown",
   "metadata": {},
   "source": [
    "### Reshape y transpose."
   ]
  },
  {
   "cell_type": "markdown",
   "metadata": {},
   "source": [
    "1. Crea un array 3D de forma (2, 3, 4) con valores aleatorios entre 1 y 100 (ambos inclusive). Utiliza reshape para convertirlo en un array 2D. Deberás pensar en la forma que es correcta para hacer este cambio."
   ]
  },
  {
   "cell_type": "code",
   "execution_count": 10,
   "metadata": {},
   "outputs": [
    {
     "name": "stdout",
     "output_type": "stream",
     "text": [
      "[[[ 93  13  19  71]\n",
      "  [ 41   2  44  60]\n",
      "  [100  67   7  33]]\n",
      "\n",
      " [[ 51  14  68  40]\n",
      "  [ 18  84  31  72]\n",
      "  [ 33  22  16  50]]] \n",
      "\n",
      "------------\n",
      "[[ 93  13  19  71]\n",
      " [ 41   2  44  60]\n",
      " [100  67   7  33]\n",
      " [ 51  14  68  40]\n",
      " [ 18  84  31  72]\n",
      " [ 33  22  16  50]] \n",
      "\n"
     ]
    }
   ],
   "source": [
    "array_re = np.random.randint(1,101,(2,3,4))\n",
    "print(f'{array_re} \\n')\n",
    "print('------------')\n",
    "\n",
    "arraycambio = np.reshape(array_re,(6,4))\n",
    "print(f'{arraycambio} \\n')"
   ]
  },
  {
   "cell_type": "markdown",
   "metadata": {},
   "source": [
    "2. Crea un array 3D de forma (3, 4, 5) con valores enteros del 1 al 60 (sin incluir). Utiliza reshape para convertirlo en un array 2D."
   ]
  },
  {
   "cell_type": "code",
   "execution_count": null,
   "metadata": {},
   "outputs": [],
   "source": [
    "array3 = np.random.randint(1, 60, (3,4,5))\n",
    "print(f'{array3} \\n')\n",
    "print('------------ \\n')\n",
    "\n",
    "arraycambio3 = np.reshape(array3,(12,5))\n",
    "print(f'{arraycambio3} \\n')\n",
    "print('------------ \\n')\n",
    "\n",
    "arraycambio33 = np.reshape(arraycambio3, (5, 12))\n",
    "print(f'{arraycambio33} \\n')"
   ]
  },
  {
   "cell_type": "markdown",
   "metadata": {},
   "source": [
    "3. Crea un array 3D de forma (4, 3, 2) con valores aleatorios entre 0 y 1. Utiliza reshape para convertirlo en un array 2D."
   ]
  },
  {
   "cell_type": "code",
   "execution_count": 4,
   "metadata": {},
   "outputs": [
    {
     "name": "stdout",
     "output_type": "stream",
     "text": [
      "[[[0.10992502 0.90894385]\n",
      "  [0.16794245 0.93668608]\n",
      "  [0.23958282 0.72354739]]\n",
      "\n",
      " [[0.94759428 0.58811778]\n",
      "  [0.77552827 0.99364801]\n",
      "  [0.79142747 0.20182692]]\n",
      "\n",
      " [[0.8712442  0.38754523]\n",
      "  [0.24942772 0.59108539]\n",
      "  [0.64788152 0.03991777]]\n",
      "\n",
      " [[0.51686225 0.9108253 ]\n",
      "  [0.57904215 0.81863501]\n",
      "  [0.73880045 0.3889584 ]]]\n",
      "------------ \n",
      "\n",
      "[[0.10992502 0.90894385 0.16794245 0.93668608 0.23958282 0.72354739]\n",
      " [0.94759428 0.58811778 0.77552827 0.99364801 0.79142747 0.20182692]\n",
      " [0.8712442  0.38754523 0.24942772 0.59108539 0.64788152 0.03991777]\n",
      " [0.51686225 0.9108253  0.57904215 0.81863501 0.73880045 0.3889584 ]]\n"
     ]
    }
   ],
   "source": [
    "array4 = np.random.rand(4,3,2)\n",
    "print(array4)\n",
    "print('------------ \\n')\n",
    "nuevo_array4 = np.reshape(array4,(4,6))\n",
    "print(nuevo_array4)"
   ]
  },
  {
   "cell_type": "markdown",
   "metadata": {},
   "source": [
    "4. Utiliza el array 3D del ejercicio 2 de reshape. Utiliza transpose para permutar los ejes y obtener un nuevo array con forma (5, 4, 3)."
   ]
  },
  {
   "cell_type": "code",
   "execution_count": null,
   "metadata": {},
   "outputs": [],
   "source": [
    "print(array3)\n",
    "print('-------- \\n')\n",
    "\n",
    "array3_permut = np.transpose(array3, (2,1,0))\n",
    "print(array3_permut)"
   ]
  },
  {
   "cell_type": "markdown",
   "metadata": {},
   "source": [
    "5. Utiliza el array 3D del ejercicio 3 de reshape. Utiliza transpose para cambiar el orden de los ejes y obtener un nuevo array con forma (3, 2, 4)."
   ]
  },
  {
   "cell_type": "code",
   "execution_count": 7,
   "metadata": {},
   "outputs": [
    {
     "name": "stdout",
     "output_type": "stream",
     "text": [
      "[[[0.10992502 0.94759428 0.8712442  0.51686225]\n",
      "  [0.90894385 0.58811778 0.38754523 0.9108253 ]]\n",
      "\n",
      " [[0.16794245 0.77552827 0.24942772 0.57904215]\n",
      "  [0.93668608 0.99364801 0.59108539 0.81863501]]\n",
      "\n",
      " [[0.23958282 0.79142747 0.64788152 0.73880045]\n",
      "  [0.72354739 0.20182692 0.03991777 0.3889584 ]]]\n"
     ]
    }
   ],
   "source": [
    "nuevo_array4 = np.transpose(array4,(1,2,0))\n",
    "print(nuevo_array4)"
   ]
  },
  {
   "cell_type": "markdown",
   "metadata": {},
   "source": [
    "### Funciones aritméticas y estadísticas"
   ]
  },
  {
   "cell_type": "markdown",
   "metadata": {},
   "source": [
    "1. Crea un array de tres 3D con elementos entre el 0 y 1 de forma (2, 3, 5) cuyos valores solo tengan 1 decimal.\n"
   ]
  },
  {
   "cell_type": "code",
   "execution_count": 12,
   "metadata": {},
   "outputs": [
    {
     "name": "stdout",
     "output_type": "stream",
     "text": [
      "[[[0.2 0.1 0.  0.6 1. ]\n",
      "  [0.  0.  0.9 0.6 0.9]\n",
      "  [0.6 0.7 0.1 0.7 0.1]]\n",
      "\n",
      " [[0.5 0.7 0.6 0.1 0.5]\n",
      "  [0.2 0.8 0.1 0.8 0. ]\n",
      "  [0.8 0.3 0.5 0.7 0.7]]]\n"
     ]
    }
   ],
   "source": [
    "arrayvacio = np.random.rand(2,3,5).round(1)\n",
    "print(arrayvacio)"
   ]
  },
  {
   "cell_type": "markdown",
   "metadata": {},
   "source": [
    "2. Crea un array vacío con la misma forma y dimensiones que el array creado anteriormente. Vamos a reemplazar los valores de la matriz vacía que nos acabamos de crear pero basándonos en los valores del primer array bajo las siguientes condiciones:\n",
    "\n",
    "- Si el valor del array es igual que la media, se reemplaza por \"A\".\n",
    "- Si el valor del array es mayor que la media, se reemplaza por \"B\".\n",
    "- Si el valor del array es menor que la media, se reemplaza por \"C\".\n",
    "- Si el valor es igual que el máximo, se reemplaza por \"D\".\n",
    "- Si el valor es igual que el mínimo, se reemplaza por \"E\".\n"
   ]
  },
  {
   "cell_type": "code",
   "execution_count": 13,
   "metadata": {},
   "outputs": [
    {
     "name": "stdout",
     "output_type": "stream",
     "text": [
      "[[[0.3 0.1 0.2 0.5 0.5]\n",
      "  [0.2 0.5 0.2 0.4 0.1]\n",
      "  [0.5 0.9 0.8 0.5 0.4]]\n",
      "\n",
      " [[0.6 0.7 0.6 0.5 1. ]\n",
      "  [0.6 0.1 0.4 0.3 0.1]\n",
      "  [0.2 0.3 0.6 0.9 0.8]]]\n"
     ]
    }
   ],
   "source": [
    "arrayvacio2 = np.round(np.random.rand(2,3,5),1)\n",
    "print(f'{arrayvacio2}')"
   ]
  },
  {
   "cell_type": "code",
   "execution_count": 14,
   "metadata": {},
   "outputs": [
    {
     "name": "stdout",
     "output_type": "stream",
     "text": [
      "[[['0.3' '0.1' '0.2' '0.5' '0.5']\n",
      "  ['0.2' '0.5' '0.2' '0.4' '0.1']\n",
      "  ['0.5' '0.9' '0.8' '0.5' '0.4']]\n",
      "\n",
      " [['0.6' '0.7' '0.6' '0.5' '1.0']\n",
      "  ['0.6' '0.1' '0.4' '0.3' '0.1']\n",
      "  ['0.2' '0.3' '0.6' '0.9' '0.8']]] \n",
      "\n",
      "----------\n",
      "[[['0.3' '0.1' '0.2' 'B' 'B']\n",
      "  ['0.2' 'B' '0.2' '0.4' '0.1']\n",
      "  ['B' 'B' 'B' 'B' '0.4']]\n",
      "\n",
      " [['B' 'B' 'B' 'B' 'B']\n",
      "  ['B' '0.1' '0.4' '0.3' '0.1']\n",
      "  ['0.2' '0.3' 'B' 'B' 'B']]] \n",
      "\n",
      "----------\n",
      "[[['C' 'C' 'C' '0.5' '0.5']\n",
      "  ['C' '0.5' 'C' 'C' 'C']\n",
      "  ['0.5' '0.9' '0.8' '0.5' 'C']]\n",
      "\n",
      " [['0.6' '0.7' '0.6' '0.5' '1.0']\n",
      "  ['0.6' 'C' 'C' 'C' 'C']\n",
      "  ['C' 'C' '0.6' '0.9' '0.8']]] \n",
      "\n",
      "----------\n",
      "[[['0.3' '0.1' '0.2' '0.5' '0.5']\n",
      "  ['0.2' '0.5' '0.2' '0.4' '0.1']\n",
      "  ['0.5' '0.9' '0.8' '0.5' '0.4']]\n",
      "\n",
      " [['0.6' '0.7' '0.6' '0.5' 'D']\n",
      "  ['0.6' '0.1' '0.4' '0.3' '0.1']\n",
      "  ['0.2' '0.3' '0.6' '0.9' '0.8']]] \n",
      "\n",
      "----------\n",
      "[[['0.3' '0.1' '0.2' '0.5' '0.5']\n",
      "  ['0.2' '0.5' '0.2' '0.4' '0.1']\n",
      "  ['0.5' '0.9' '0.8' '0.5' '0.4']]\n",
      "\n",
      " [['0.6' '0.7' '0.6' '0.5' '1.0']\n",
      "  ['0.6' '0.1' '0.4' '0.3' '0.1']\n",
      "  ['0.2' '0.3' '0.6' '0.9' '0.8']]] \n",
      "\n"
     ]
    }
   ],
   "source": [
    "igualmedia = np.where( arrayvacio2 == (np.mean(arrayvacio)), 'A', arrayvacio2)\n",
    "print(f'{igualmedia} \\n')\n",
    "print('----------')\n",
    "\n",
    "mayormedia = np.where( arrayvacio2 > (np.mean(arrayvacio)), 'B', arrayvacio2)\n",
    "print(f'{mayormedia} \\n')\n",
    "print('----------')\n",
    "\n",
    "menormedia = np.where( arrayvacio2 < (np.mean(arrayvacio)), 'C', arrayvacio2)\n",
    "print(f'{menormedia} \\n')\n",
    "print('----------')\n",
    "\n",
    "valormax = np.where( arrayvacio2 == (np.max(arrayvacio)), 'D', arrayvacio2)\n",
    "print(f'{valormax} \\n')\n",
    "print('----------')\n",
    "\n",
    "valormin = np.where( arrayvacio2 == (np.min(arrayvacio)), 'E', arrayvacio2)\n",
    "print(f'{valormin} \\n')"
   ]
  }
 ],
 "metadata": {
  "kernelspec": {
   "display_name": "base",
   "language": "python",
   "name": "python3"
  },
  "language_info": {
   "codemirror_mode": {
    "name": "ipython",
    "version": 3
   },
   "file_extension": ".py",
   "mimetype": "text/x-python",
   "name": "python",
   "nbconvert_exporter": "python",
   "pygments_lexer": "ipython3",
   "version": "3.9.7"
  }
 },
 "nbformat": 4,
 "nbformat_minor": 2
}
